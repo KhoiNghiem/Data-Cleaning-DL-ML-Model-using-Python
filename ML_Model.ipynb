{
 "cells": [
  {
   "cell_type": "code",
   "execution_count": 1,
   "metadata": {},
   "outputs": [],
   "source": [
    "import pandas as pd\n",
    "import numpy as np\n",
    "import matplotlib.pyplot as plt\n",
    "import seaborn as sns\n",
    "from sklearn.model_selection import train_test_split\n"
   ]
  },
  {
   "cell_type": "code",
   "execution_count": 2,
   "metadata": {},
   "outputs": [],
   "source": [
    "df_test2 = pd.read_excel(\"SMOTE_Borderline_Data.xlsx\")\n",
    "df_test2 = df_test2.loc[:, ~df_test2.columns.str.contains('^Unnamed')]"
   ]
  },
  {
   "cell_type": "code",
   "execution_count": 3,
   "metadata": {},
   "outputs": [],
   "source": [
    "X = df_test2.drop(\"EE4_GPA\", axis = 'columns')\n",
    "y = df_test2[\"EE4_GPA\"]"
   ]
  },
  {
   "cell_type": "code",
   "execution_count": 4,
   "metadata": {},
   "outputs": [],
   "source": [
    "X_train, X_test, y_train, y_test = train_test_split(X, y)"
   ]
  },
  {
   "cell_type": "code",
   "execution_count": 5,
   "metadata": {},
   "outputs": [
    {
     "data": {
      "text/html": [
       "<div>\n",
       "<style scoped>\n",
       "    .dataframe tbody tr th:only-of-type {\n",
       "        vertical-align: middle;\n",
       "    }\n",
       "\n",
       "    .dataframe tbody tr th {\n",
       "        vertical-align: top;\n",
       "    }\n",
       "\n",
       "    .dataframe thead th {\n",
       "        text-align: right;\n",
       "    }\n",
       "</style>\n",
       "<table border=\"1\" class=\"dataframe\">\n",
       "  <thead>\n",
       "    <tr style=\"text-align: right;\">\n",
       "      <th></th>\n",
       "      <th>EE1</th>\n",
       "      <th>EE2</th>\n",
       "      <th>EE3</th>\n",
       "      <th>MI</th>\n",
       "      <th>IT</th>\n",
       "      <th>PH</th>\n",
       "      <th>ME</th>\n",
       "    </tr>\n",
       "  </thead>\n",
       "  <tbody>\n",
       "    <tr>\n",
       "      <th>388</th>\n",
       "      <td>8.088448</td>\n",
       "      <td>6.509240</td>\n",
       "      <td>6.050014</td>\n",
       "      <td>5.503936</td>\n",
       "      <td>6.217414</td>\n",
       "      <td>8.560949</td>\n",
       "      <td>8.225176</td>\n",
       "    </tr>\n",
       "    <tr>\n",
       "      <th>976</th>\n",
       "      <td>8.377546</td>\n",
       "      <td>7.701382</td>\n",
       "      <td>8.305669</td>\n",
       "      <td>6.964364</td>\n",
       "      <td>7.399043</td>\n",
       "      <td>5.992276</td>\n",
       "      <td>7.101914</td>\n",
       "    </tr>\n",
       "    <tr>\n",
       "      <th>808</th>\n",
       "      <td>8.056612</td>\n",
       "      <td>4.861539</td>\n",
       "      <td>6.450823</td>\n",
       "      <td>5.540495</td>\n",
       "      <td>4.310401</td>\n",
       "      <td>5.752823</td>\n",
       "      <td>5.648069</td>\n",
       "    </tr>\n",
       "    <tr>\n",
       "      <th>273</th>\n",
       "      <td>7.950000</td>\n",
       "      <td>6.858824</td>\n",
       "      <td>5.900000</td>\n",
       "      <td>6.764706</td>\n",
       "      <td>8.150000</td>\n",
       "      <td>9.075000</td>\n",
       "      <td>9.850000</td>\n",
       "    </tr>\n",
       "    <tr>\n",
       "      <th>775</th>\n",
       "      <td>9.164605</td>\n",
       "      <td>6.668753</td>\n",
       "      <td>6.849968</td>\n",
       "      <td>7.690418</td>\n",
       "      <td>8.650000</td>\n",
       "      <td>8.948637</td>\n",
       "      <td>6.384661</td>\n",
       "    </tr>\n",
       "    <tr>\n",
       "      <th>...</th>\n",
       "      <td>...</td>\n",
       "      <td>...</td>\n",
       "      <td>...</td>\n",
       "      <td>...</td>\n",
       "      <td>...</td>\n",
       "      <td>...</td>\n",
       "      <td>...</td>\n",
       "    </tr>\n",
       "    <tr>\n",
       "      <th>519</th>\n",
       "      <td>8.000000</td>\n",
       "      <td>5.966085</td>\n",
       "      <td>4.181281</td>\n",
       "      <td>6.252680</td>\n",
       "      <td>7.000326</td>\n",
       "      <td>8.567811</td>\n",
       "      <td>6.198914</td>\n",
       "    </tr>\n",
       "    <tr>\n",
       "      <th>329</th>\n",
       "      <td>8.300000</td>\n",
       "      <td>6.791176</td>\n",
       "      <td>7.817105</td>\n",
       "      <td>6.920588</td>\n",
       "      <td>7.150000</td>\n",
       "      <td>8.425000</td>\n",
       "      <td>5.300000</td>\n",
       "    </tr>\n",
       "    <tr>\n",
       "      <th>48</th>\n",
       "      <td>9.700000</td>\n",
       "      <td>6.125000</td>\n",
       "      <td>7.681818</td>\n",
       "      <td>6.295455</td>\n",
       "      <td>6.900000</td>\n",
       "      <td>5.550000</td>\n",
       "      <td>5.900000</td>\n",
       "    </tr>\n",
       "    <tr>\n",
       "      <th>891</th>\n",
       "      <td>8.767949</td>\n",
       "      <td>7.480755</td>\n",
       "      <td>9.040031</td>\n",
       "      <td>6.866706</td>\n",
       "      <td>7.158547</td>\n",
       "      <td>8.111218</td>\n",
       "      <td>7.785897</td>\n",
       "    </tr>\n",
       "    <tr>\n",
       "      <th>151</th>\n",
       "      <td>8.700000</td>\n",
       "      <td>7.832353</td>\n",
       "      <td>6.936842</td>\n",
       "      <td>6.532353</td>\n",
       "      <td>8.700000</td>\n",
       "      <td>7.650000</td>\n",
       "      <td>8.500000</td>\n",
       "    </tr>\n",
       "  </tbody>\n",
       "</table>\n",
       "<p>746 rows × 7 columns</p>\n",
       "</div>"
      ],
      "text/plain": [
       "          EE1       EE2       EE3        MI        IT        PH        ME\n",
       "388  8.088448  6.509240  6.050014  5.503936  6.217414  8.560949  8.225176\n",
       "976  8.377546  7.701382  8.305669  6.964364  7.399043  5.992276  7.101914\n",
       "808  8.056612  4.861539  6.450823  5.540495  4.310401  5.752823  5.648069\n",
       "273  7.950000  6.858824  5.900000  6.764706  8.150000  9.075000  9.850000\n",
       "775  9.164605  6.668753  6.849968  7.690418  8.650000  8.948637  6.384661\n",
       "..        ...       ...       ...       ...       ...       ...       ...\n",
       "519  8.000000  5.966085  4.181281  6.252680  7.000326  8.567811  6.198914\n",
       "329  8.300000  6.791176  7.817105  6.920588  7.150000  8.425000  5.300000\n",
       "48   9.700000  6.125000  7.681818  6.295455  6.900000  5.550000  5.900000\n",
       "891  8.767949  7.480755  9.040031  6.866706  7.158547  8.111218  7.785897\n",
       "151  8.700000  7.832353  6.936842  6.532353  8.700000  7.650000  8.500000\n",
       "\n",
       "[746 rows x 7 columns]"
      ]
     },
     "execution_count": 5,
     "metadata": {},
     "output_type": "execute_result"
    }
   ],
   "source": [
    "X_train"
   ]
  },
  {
   "cell_type": "code",
   "execution_count": 6,
   "metadata": {},
   "outputs": [],
   "source": [
    "y_train = pd.Series(np.array(y_train))"
   ]
  },
  {
   "cell_type": "code",
   "execution_count": 7,
   "metadata": {},
   "outputs": [],
   "source": [
    "from keras.utils import np_utils\n",
    "Y_train = np_utils.to_categorical(y_train, 5)\n",
    "Y_test = np_utils.to_categorical(y_test, 5)"
   ]
  },
  {
   "cell_type": "code",
   "execution_count": 8,
   "metadata": {},
   "outputs": [
    {
     "data": {
      "text/html": [
       "<div>\n",
       "<style scoped>\n",
       "    .dataframe tbody tr th:only-of-type {\n",
       "        vertical-align: middle;\n",
       "    }\n",
       "\n",
       "    .dataframe tbody tr th {\n",
       "        vertical-align: top;\n",
       "    }\n",
       "\n",
       "    .dataframe thead th {\n",
       "        text-align: right;\n",
       "    }\n",
       "</style>\n",
       "<table border=\"1\" class=\"dataframe\">\n",
       "  <thead>\n",
       "    <tr style=\"text-align: right;\">\n",
       "      <th></th>\n",
       "      <th>EE1</th>\n",
       "      <th>EE2</th>\n",
       "      <th>EE3</th>\n",
       "      <th>MI</th>\n",
       "      <th>IT</th>\n",
       "      <th>PH</th>\n",
       "      <th>ME</th>\n",
       "    </tr>\n",
       "  </thead>\n",
       "  <tbody>\n",
       "    <tr>\n",
       "      <th>388</th>\n",
       "      <td>8.088448</td>\n",
       "      <td>6.509240</td>\n",
       "      <td>6.050014</td>\n",
       "      <td>5.503936</td>\n",
       "      <td>6.217414</td>\n",
       "      <td>8.560949</td>\n",
       "      <td>8.225176</td>\n",
       "    </tr>\n",
       "    <tr>\n",
       "      <th>976</th>\n",
       "      <td>8.377546</td>\n",
       "      <td>7.701382</td>\n",
       "      <td>8.305669</td>\n",
       "      <td>6.964364</td>\n",
       "      <td>7.399043</td>\n",
       "      <td>5.992276</td>\n",
       "      <td>7.101914</td>\n",
       "    </tr>\n",
       "    <tr>\n",
       "      <th>808</th>\n",
       "      <td>8.056612</td>\n",
       "      <td>4.861539</td>\n",
       "      <td>6.450823</td>\n",
       "      <td>5.540495</td>\n",
       "      <td>4.310401</td>\n",
       "      <td>5.752823</td>\n",
       "      <td>5.648069</td>\n",
       "    </tr>\n",
       "    <tr>\n",
       "      <th>273</th>\n",
       "      <td>7.950000</td>\n",
       "      <td>6.858824</td>\n",
       "      <td>5.900000</td>\n",
       "      <td>6.764706</td>\n",
       "      <td>8.150000</td>\n",
       "      <td>9.075000</td>\n",
       "      <td>9.850000</td>\n",
       "    </tr>\n",
       "    <tr>\n",
       "      <th>775</th>\n",
       "      <td>9.164605</td>\n",
       "      <td>6.668753</td>\n",
       "      <td>6.849968</td>\n",
       "      <td>7.690418</td>\n",
       "      <td>8.650000</td>\n",
       "      <td>8.948637</td>\n",
       "      <td>6.384661</td>\n",
       "    </tr>\n",
       "    <tr>\n",
       "      <th>...</th>\n",
       "      <td>...</td>\n",
       "      <td>...</td>\n",
       "      <td>...</td>\n",
       "      <td>...</td>\n",
       "      <td>...</td>\n",
       "      <td>...</td>\n",
       "      <td>...</td>\n",
       "    </tr>\n",
       "    <tr>\n",
       "      <th>519</th>\n",
       "      <td>8.000000</td>\n",
       "      <td>5.966085</td>\n",
       "      <td>4.181281</td>\n",
       "      <td>6.252680</td>\n",
       "      <td>7.000326</td>\n",
       "      <td>8.567811</td>\n",
       "      <td>6.198914</td>\n",
       "    </tr>\n",
       "    <tr>\n",
       "      <th>329</th>\n",
       "      <td>8.300000</td>\n",
       "      <td>6.791176</td>\n",
       "      <td>7.817105</td>\n",
       "      <td>6.920588</td>\n",
       "      <td>7.150000</td>\n",
       "      <td>8.425000</td>\n",
       "      <td>5.300000</td>\n",
       "    </tr>\n",
       "    <tr>\n",
       "      <th>48</th>\n",
       "      <td>9.700000</td>\n",
       "      <td>6.125000</td>\n",
       "      <td>7.681818</td>\n",
       "      <td>6.295455</td>\n",
       "      <td>6.900000</td>\n",
       "      <td>5.550000</td>\n",
       "      <td>5.900000</td>\n",
       "    </tr>\n",
       "    <tr>\n",
       "      <th>891</th>\n",
       "      <td>8.767949</td>\n",
       "      <td>7.480755</td>\n",
       "      <td>9.040031</td>\n",
       "      <td>6.866706</td>\n",
       "      <td>7.158547</td>\n",
       "      <td>8.111218</td>\n",
       "      <td>7.785897</td>\n",
       "    </tr>\n",
       "    <tr>\n",
       "      <th>151</th>\n",
       "      <td>8.700000</td>\n",
       "      <td>7.832353</td>\n",
       "      <td>6.936842</td>\n",
       "      <td>6.532353</td>\n",
       "      <td>8.700000</td>\n",
       "      <td>7.650000</td>\n",
       "      <td>8.500000</td>\n",
       "    </tr>\n",
       "  </tbody>\n",
       "</table>\n",
       "<p>746 rows × 7 columns</p>\n",
       "</div>"
      ],
      "text/plain": [
       "          EE1       EE2       EE3        MI        IT        PH        ME\n",
       "388  8.088448  6.509240  6.050014  5.503936  6.217414  8.560949  8.225176\n",
       "976  8.377546  7.701382  8.305669  6.964364  7.399043  5.992276  7.101914\n",
       "808  8.056612  4.861539  6.450823  5.540495  4.310401  5.752823  5.648069\n",
       "273  7.950000  6.858824  5.900000  6.764706  8.150000  9.075000  9.850000\n",
       "775  9.164605  6.668753  6.849968  7.690418  8.650000  8.948637  6.384661\n",
       "..        ...       ...       ...       ...       ...       ...       ...\n",
       "519  8.000000  5.966085  4.181281  6.252680  7.000326  8.567811  6.198914\n",
       "329  8.300000  6.791176  7.817105  6.920588  7.150000  8.425000  5.300000\n",
       "48   9.700000  6.125000  7.681818  6.295455  6.900000  5.550000  5.900000\n",
       "891  8.767949  7.480755  9.040031  6.866706  7.158547  8.111218  7.785897\n",
       "151  8.700000  7.832353  6.936842  6.532353  8.700000  7.650000  8.500000\n",
       "\n",
       "[746 rows x 7 columns]"
      ]
     },
     "execution_count": 8,
     "metadata": {},
     "output_type": "execute_result"
    }
   ],
   "source": [
    "X_train"
   ]
  },
  {
   "cell_type": "code",
   "execution_count": 9,
   "metadata": {},
   "outputs": [],
   "source": [
    "# importing necessary libraries\n",
    "from sklearn.metrics import confusion_matrix\n",
    "from sklearn.model_selection import train_test_split\n",
    "\n",
    "# loading the iris dataset\n",
    "\n",
    "# dividing X, y into train and test data\n",
    "\n",
    "\n",
    "# training a linear SVM classifier\n",
    "from sklearn.svm import SVC\n",
    "svm_model_linear = SVC(kernel = 'linear', C = 1, probability = True).fit(X_train, y_train)\n",
    "svm_predictions = svm_model_linear.predict(X_test)\n",
    "svm_predictions_proba = svm_model_linear.predict_proba(X_test)\n",
    "\n",
    "# model accuracy for X_test  \n",
    "SVM_accuracy = svm_model_linear.score(X_test, y_test)\n",
    "\n",
    "# creating a confusion matrix\n",
    "cm = confusion_matrix(y_test, svm_predictions)"
   ]
  },
  {
   "cell_type": "code",
   "execution_count": 10,
   "metadata": {},
   "outputs": [
    {
     "data": {
      "text/plain": [
       "0.5742971887550201"
      ]
     },
     "execution_count": 10,
     "metadata": {},
     "output_type": "execute_result"
    }
   ],
   "source": [
    "SVM_accuracy"
   ]
  },
  {
   "cell_type": "code",
   "execution_count": 11,
   "metadata": {},
   "outputs": [],
   "source": [
    "from sklearn.model_selection import KFold\n",
    "from sklearn.ensemble import RandomForestRegressor\n",
    "from sklearn.model_selection import train_test_split\n",
    "from sklearn.model_selection import cross_val_score "
   ]
  },
  {
   "cell_type": "code",
   "execution_count": 12,
   "metadata": {},
   "outputs": [],
   "source": [
    "kfold = KFold(n_splits = 10, random_state=1, shuffle=True)\n",
    "\n",
    "SVM_score = cross_val_score(svm_model_linear, X, y,scoring = 'accuracy',\n",
    "                         cv = kfold)"
   ]
  },
  {
   "cell_type": "code",
   "execution_count": 13,
   "metadata": {},
   "outputs": [
    {
     "data": {
      "text/plain": [
       "0.583919191919192"
      ]
     },
     "execution_count": 13,
     "metadata": {},
     "output_type": "execute_result"
    }
   ],
   "source": [
    "SVM_score.mean()"
   ]
  },
  {
   "cell_type": "code",
   "execution_count": 14,
   "metadata": {},
   "outputs": [
    {
     "name": "stdout",
     "output_type": "stream",
     "text": [
      "0.8112449799196787\n"
     ]
    },
    {
     "data": {
      "image/png": "[encoded data removed]",
      "text/plain": [
       "<Figure size 576x576 with 2 Axes>"
      ]
     },
     "metadata": {
      "needs_background": "light"
     },
     "output_type": "display_data"
    }
   ],
   "source": [
    "# importing necessary libraries\n",
    "from sklearn.metrics import confusion_matrix\n",
    "from sklearn.model_selection import train_test_split\n",
    "  \n",
    "# loading the iris dataset\n",
    "  \n",
    "  \n",
    "# dividing X, y into train and test data\n",
    "X_train, X_test, y_train, y_test = train_test_split(X, y)\n",
    "  \n",
    "# training a KNN classifier\n",
    "from sklearn.neighbors import KNeighborsClassifier\n",
    "knn = KNeighborsClassifier(n_neighbors = 5).fit(X_train, y_train)\n",
    "  \n",
    "# accuracy on X_test\n",
    "knn_accuracy = knn.score(X_test, y_test)\n",
    "print (knn_accuracy)\n",
    "  \n",
    "# creating a confusion matrix\n",
    "knn_predictions = knn.predict(X_test) \n",
    "knn_predictions_proba = knn.predict_proba(X_test) \n",
    "\n",
    "cm = confusion_matrix(y_test, knn_predictions)\n",
    "conf_matrix = pd.DataFrame(data = cm, columns = ['Predicted: 0', 'Predicted: 1', 'Predict: 2', 'Predict: 3', 'Predict: 4'], \n",
    "                                    index = ['Actual: 0', 'Actual: 1', 'Actual: 2', 'Actual: 3', 'Actual: 4 '])\n",
    "plt.figure(figsize = (8, 8))\n",
    "sns.heatmap(conf_matrix, annot = True, fmt = 'd', cmap = \"YlGnBu\");"
   ]
  },
  {
   "cell_type": "code",
   "execution_count": 15,
   "metadata": {},
   "outputs": [
    {
     "name": "stdout",
     "output_type": "stream",
     "text": [
      "0.780878787878788\n"
     ]
    }
   ],
   "source": [
    "knn_score = cross_val_score(knn, X, y,scoring = 'accuracy',\n",
    "                        cv = kfold)\n",
    "print(knn_score.mean())"
   ]
  },
  {
   "cell_type": "code",
   "execution_count": 16,
   "metadata": {},
   "outputs": [
    {
     "name": "stdout",
     "output_type": "stream",
     "text": [
      "0.5301204819277109\n"
     ]
    }
   ],
   "source": [
    "# importing necessary libraries\n",
    "from sklearn import datasets\n",
    "from sklearn.metrics import confusion_matrix\n",
    "from sklearn.model_selection import train_test_split\n",
    "\n",
    "# loading the iris dataset\n",
    "\n",
    "# X -> features, y -> label\n",
    "\n",
    "# dividing X, y into train and test data\n",
    "X_train, X_test, y_train, y_test = train_test_split(X, y)\n",
    "\n",
    "# training a Naive Bayes classifier\n",
    "from sklearn.naive_bayes import GaussianNB\n",
    "gnb = GaussianNB().fit(X_train, y_train)\n",
    "gnb_predictions = gnb.predict(X_test)\n",
    "gnb_predictions_proba = gnb.predict_proba(X_test)\n",
    "\n",
    "# accuracy on X_test\n",
    "GNB_accuracy = gnb.score(X_test, y_test)\n",
    "print (GNB_accuracy)\n",
    "\n",
    "# creating a confusion matrix\n",
    "cm = confusion_matrix(y_test, gnb_predictions)\n"
   ]
  },
  {
   "cell_type": "code",
   "execution_count": 17,
   "metadata": {},
   "outputs": [
    {
     "name": "stdout",
     "output_type": "stream",
     "text": [
      "0.5226464646464646\n"
     ]
    }
   ],
   "source": [
    "gnb_score = cross_val_score(gnb, X, y,scoring = 'accuracy',\n",
    "                         cv = kfold)\n",
    "print(gnb_score.mean())"
   ]
  },
  {
   "cell_type": "code",
   "execution_count": 18,
   "metadata": {},
   "outputs": [],
   "source": [
    "# importing necessary libraries\n",
    "from sklearn import datasets\n",
    "from sklearn.metrics import confusion_matrix\n",
    "from sklearn.model_selection import train_test_split\n",
    "\n",
    "\n",
    "# training a DescisionTreeClassifier\n",
    "from sklearn.tree import DecisionTreeClassifier\n",
    "dtree_model = DecisionTreeClassifier(max_depth = 5, random_state = 20).fit(X_train, y_train)\n",
    "dtree_predictions = dtree_model.predict(X_test)\n",
    "dtree_predictions_proba = dtree_model.predict_proba(X_test)\n",
    "\n",
    "# creating a confusion matrix\n",
    "cm = confusion_matrix(y_test, dtree_predictions)\n"
   ]
  },
  {
   "cell_type": "code",
   "execution_count": 19,
   "metadata": {},
   "outputs": [
    {
     "data": {
      "text/plain": [
       "0.7006262626262626"
      ]
     },
     "execution_count": 19,
     "metadata": {},
     "output_type": "execute_result"
    }
   ],
   "source": [
    "dtree_model_score = cross_val_score(dtree_model, X, y,scoring = 'accuracy',\n",
    "                        cv = kfold)\n",
    "\n",
    "dtree_model_score.mean()"
   ]
  },
  {
   "cell_type": "code",
   "execution_count": 20,
   "metadata": {},
   "outputs": [],
   "source": [
    "from sklearn.model_selection import RepeatedStratifiedKFold\n",
    "from sklearn.ensemble import RandomForestClassifier"
   ]
  },
  {
   "cell_type": "code",
   "execution_count": 21,
   "metadata": {},
   "outputs": [],
   "source": [
    "rf_model = RandomForestClassifier(n_estimators=20, max_depth = 5, random_state = 20).fit(X_train, y_train)"
   ]
  },
  {
   "cell_type": "code",
   "execution_count": 22,
   "metadata": {},
   "outputs": [],
   "source": [
    "rf_model_predictions_proba = rf_model.predict_proba(X_test)"
   ]
  },
  {
   "cell_type": "code",
   "execution_count": 23,
   "metadata": {},
   "outputs": [
    {
     "data": {
      "text/plain": [
       "0.7469879518072289"
      ]
     },
     "execution_count": 23,
     "metadata": {},
     "output_type": "execute_result"
    }
   ],
   "source": [
    "rf_model.score(X_test, y_test)"
   ]
  },
  {
   "cell_type": "code",
   "execution_count": 24,
   "metadata": {},
   "outputs": [
    {
     "data": {
      "image/png": "[encoded data removed]",
      "text/plain": [
       "<Figure size 576x576 with 2 Axes>"
      ]
     },
     "metadata": {
      "needs_background": "light"
     },
     "output_type": "display_data"
    }
   ],
   "source": [
    "rf_model_predictions = rf_model.predict(X_test)\n",
    "cm = confusion_matrix(y_test, rf_model_predictions)\n",
    "conf_matrix = pd.DataFrame(data = cm, columns = ['Predicted: 0', 'Predicted: 1', 'Predict: 2', 'Predict: 3', 'Predict: 4'], \n",
    "                                    index = ['Actual: 0', 'Actual: 1', 'Actual: 2', 'Actual: 3', 'Actual: 4 '])\n",
    "plt.figure(figsize = (8, 8))\n",
    "sns.heatmap(conf_matrix, annot = True, fmt = 'd', cmap = \"YlGnBu\");"
   ]
  },
  {
   "cell_type": "code",
   "execution_count": 25,
   "metadata": {},
   "outputs": [],
   "source": [
    "from sklearn.metrics import log_loss\n",
    "rf_log_loss = log_loss(y_test, rf_model_predictions_proba)\n",
    "dt_log_loss = log_loss(y_test, dtree_predictions_proba)\n",
    "nb_log_loss = log_loss(y_test, gnb_predictions_proba)\n",
    "knn_log_loss = log_loss(y_test, knn_predictions_proba)\n",
    "svm_log_loss = log_loss(y_test, svm_predictions_proba)"
   ]
  },
  {
   "cell_type": "code",
   "execution_count": 26,
   "metadata": {},
   "outputs": [],
   "source": [
    "cv = RepeatedStratifiedKFold(n_splits=10, n_repeats=3, random_state=1)\n",
    "rf_scores = cross_val_score(rf_model, X, y, scoring='accuracy', cv=cv, n_jobs=-1, error_score='raise')"
   ]
  },
  {
   "cell_type": "code",
   "execution_count": 27,
   "metadata": {},
   "outputs": [
    {
     "data": {
      "text/plain": [
       "0.737986531986532"
      ]
     },
     "execution_count": 27,
     "metadata": {},
     "output_type": "execute_result"
    }
   ],
   "source": [
    "rf_scores.mean()"
   ]
  },
  {
   "cell_type": "code",
   "execution_count": 28,
   "metadata": {},
   "outputs": [],
   "source": [
    "score = np.array([knn_score.mean(), SVM_score.mean(), rf_scores.mean(), dtree_model_score.mean(), gnb_score.mean(), 0.77])"
   ]
  },
  {
   "cell_type": "code",
   "execution_count": 29,
   "metadata": {},
   "outputs": [
    {
     "data": {
      "text/plain": [
       "array([0.78087879, 0.58391919, 0.73798653, 0.70062626, 0.52264646,\n",
       "       0.77      ])"
      ]
     },
     "execution_count": 29,
     "metadata": {},
     "output_type": "execute_result"
    }
   ],
   "source": [
    "score"
   ]
  },
  {
   "cell_type": "code",
   "execution_count": 30,
   "metadata": {},
   "outputs": [],
   "source": [
    "df = pd.DataFrame({\n",
    "    'models': [\"KNN\", \"SVM\", \"RF\", \"DT\", \"NB\", \"ANN\"],    \n",
    "    \"accuracy\": [knn_score.mean(), SVM_score.mean(), rf_scores.mean(), dtree_model_score.mean(), gnb_score.mean(), 0.77],\n",
    "    \"loss\": [knn_log_loss, svm_log_loss, rf_log_loss, dt_log_loss, nb_log_loss, 0.69]\n",
    "})"
   ]
  },
  {
   "cell_type": "code",
   "execution_count": 31,
   "metadata": {},
   "outputs": [
    {
     "data": {
      "text/html": [
       "<div>\n",
       "<style scoped>\n",
       "    .dataframe tbody tr th:only-of-type {\n",
       "        vertical-align: middle;\n",
       "    }\n",
       "\n",
       "    .dataframe tbody tr th {\n",
       "        vertical-align: top;\n",
       "    }\n",
       "\n",
       "    .dataframe thead th {\n",
       "        text-align: right;\n",
       "    }\n",
       "</style>\n",
       "<table border=\"1\" class=\"dataframe\">\n",
       "  <thead>\n",
       "    <tr style=\"text-align: right;\">\n",
       "      <th></th>\n",
       "      <th>models</th>\n",
       "      <th>accuracy</th>\n",
       "      <th>loss</th>\n",
       "    </tr>\n",
       "  </thead>\n",
       "  <tbody>\n",
       "    <tr>\n",
       "      <th>0</th>\n",
       "      <td>KNN</td>\n",
       "      <td>0.780879</td>\n",
       "      <td>22.980941</td>\n",
       "    </tr>\n",
       "    <tr>\n",
       "      <th>1</th>\n",
       "      <td>SVM</td>\n",
       "      <td>0.583919</td>\n",
       "      <td>2.424226</td>\n",
       "    </tr>\n",
       "    <tr>\n",
       "      <th>2</th>\n",
       "      <td>RF</td>\n",
       "      <td>0.737987</td>\n",
       "      <td>0.820001</td>\n",
       "    </tr>\n",
       "    <tr>\n",
       "      <th>3</th>\n",
       "      <td>DT</td>\n",
       "      <td>0.700626</td>\n",
       "      <td>2.157888</td>\n",
       "    </tr>\n",
       "    <tr>\n",
       "      <th>4</th>\n",
       "      <td>NB</td>\n",
       "      <td>0.522646</td>\n",
       "      <td>1.164721</td>\n",
       "    </tr>\n",
       "    <tr>\n",
       "      <th>5</th>\n",
       "      <td>ANN</td>\n",
       "      <td>0.770000</td>\n",
       "      <td>0.690000</td>\n",
       "    </tr>\n",
       "  </tbody>\n",
       "</table>\n",
       "</div>"
      ],
      "text/plain": [
       "  models  accuracy       loss\n",
       "0    KNN  0.780879  22.980941\n",
       "1    SVM  0.583919   2.424226\n",
       "2     RF  0.737987   0.820001\n",
       "3     DT  0.700626   2.157888\n",
       "4     NB  0.522646   1.164721\n",
       "5    ANN  0.770000   0.690000"
      ]
     },
     "execution_count": 31,
     "metadata": {},
     "output_type": "execute_result"
    }
   ],
   "source": [
    "df"
   ]
  },
  {
   "cell_type": "code",
   "execution_count": 32,
   "metadata": {},
   "outputs": [],
   "source": [
    "x = df.index\n",
    "y = df.values"
   ]
  },
  {
   "cell_type": "code",
   "execution_count": 33,
   "metadata": {},
   "outputs": [
    {
     "data": {
      "text/plain": [
       "array([['KNN', 0.780878787878788, 22.98094142729655],\n",
       "       ['SVM', 0.583919191919192, 2.4242263716269234],\n",
       "       ['RF', 0.737986531986532, 0.8200010493760932],\n",
       "       ['DT', 0.7006262626262626, 2.1578877923053525],\n",
       "       ['NB', 0.5226464646464646, 1.1647209602664002],\n",
       "       ['ANN', 0.77, 0.69]], dtype=object)"
      ]
     },
     "execution_count": 33,
     "metadata": {},
     "output_type": "execute_result"
    }
   ],
   "source": [
    "y"
   ]
  },
  {
   "cell_type": "code",
   "execution_count": 34,
   "metadata": {},
   "outputs": [],
   "source": [
    "models = [\"KNN\", \"SVM\", \"RF\", \"DT\", \"NB\", \"ANN\"]\n",
    "labels = [knn_score.mean(), SVM_score.mean(), rf_scores.mean(), dtree_model_score.mean(), gnb_score.mean(), 0.77]\n",
    "loss = [knn_log_loss, svm_log_loss, rf_log_loss, dt_log_loss, nb_log_loss, 0.69]"
   ]
  },
  {
   "cell_type": "code",
   "execution_count": 35,
   "metadata": {},
   "outputs": [
    {
     "data": {
      "image/png": "[encoded data removed]",
      "text/plain": [
       "<Figure size 648x432 with 1 Axes>"
      ]
     },
     "metadata": {
      "needs_background": "light"
     },
     "output_type": "display_data"
    }
   ],
   "source": [
    "plt.figure(figsize = (9, 6))\n",
    "plt.bar(x = models, height = labels);\n"
   ]
  },
  {
   "cell_type": "code",
   "execution_count": 36,
   "metadata": {},
   "outputs": [
    {
     "data": {
      "text/plain": [
       "Text(0.5, 1.0, 'Average of Petal Length')"
      ]
     },
     "execution_count": 36,
     "metadata": {},
     "output_type": "execute_result"
    },
    {
     "data": {
      "image/png": "[encoded data removed]",
      "text/plain": [
       "<Figure size 648x432 with 1 Axes>"
      ]
     },
     "metadata": {
      "needs_background": "light"
     },
     "output_type": "display_data"
    }
   ],
   "source": [
    "plt.figure(figsize=(9, 6))\n",
    "plt.bar(x = models, height = labels)\n",
    "plt.plot(models, labels, marker='o', markersize=10, linestyle='-.', linewidth=2)\n",
    "plt.xlabel('Species', fontsize=16)\n",
    "plt.ylabel('cm', fontsize=16)\n",
    "plt.title(\"Average of Petal Length\", fontsize=18)"
   ]
  },
  {
   "cell_type": "code",
   "execution_count": 37,
   "metadata": {},
   "outputs": [],
   "source": [
    "scores = np.round(score, 2)\n",
    "loss = np.round(loss, 2)"
   ]
  },
  {
   "cell_type": "code",
   "execution_count": 38,
   "metadata": {},
   "outputs": [
    {
     "data": {
      "text/plain": [
       "Text(0.5, 1.0, \"Classification models' Accuracy\")"
      ]
     },
     "execution_count": 38,
     "metadata": {},
     "output_type": "execute_result"
    },
    {
     "data": {
      "image/png": "[encoded data removed]",
      "text/plain": [
       "<Figure size 648x432 with 1 Axes>"
      ]
     },
     "metadata": {
      "needs_background": "light"
     },
     "output_type": "display_data"
    }
   ],
   "source": [
    "plt.figure(figsize=(9, 6))\n",
    "plt.bar(x = models, height = labels, width = 0.5)\n",
    "plt.ylim(0, 1)\n",
    "plt.grid()\n",
    "xlocs, xlabs = plt.xticks()\n",
    "for i, v in enumerate(scores):\n",
    "    plt.text(xlocs[i] - 0.2, v + 0.03, str(v), fontdict=dict(fontsize = 12))\n",
    "\n",
    "plt.plot(models, labels, marker='o', markersize=10, linestyle='-.', linewidth=2, color = \"red\")\n",
    "plt.xlabel('Models', fontsize=16)\n",
    "plt.ylabel('Accuracy', fontsize=16)\n",
    "plt.title(\"Classification models' Accuracy\", fontsize=18)"
   ]
  },
  {
   "cell_type": "code",
   "execution_count": 39,
   "metadata": {},
   "outputs": [
    {
     "data": {
      "text/plain": [
       "Text(0.5, 1.0, \"Classification models' Accuracy\")"
      ]
     },
     "execution_count": 39,
     "metadata": {},
     "output_type": "execute_result"
    },
    {
     "data": {
      "image/png": "[encoded data removed]",
      "text/plain": [
       "<Figure size 648x432 with 1 Axes>"
      ]
     },
     "metadata": {
      "needs_background": "light"
     },
     "output_type": "display_data"
    }
   ],
   "source": [
    "ax = df.plot(x=\"models\", y=\"accuracy\", kind=\"bar\", figsize=(9, 6))\n",
    "plt.ylim(0, 1)\n",
    "plt.grid()\n",
    "xlocs, xlabs = plt.xticks()\n",
    "for i, v in enumerate(scores):\n",
    "    plt.text(xlocs[i] - 0.2, v + 0.03, str(v), fontdict=dict(fontsize = 12))\n",
    "\n",
    "plt.plot(models, labels, marker='o', markersize=10, linestyle='-.', linewidth=2, color = \"red\")\n",
    "plt.xlabel('Models', fontsize=16)\n",
    "plt.ylabel('Accuracy', fontsize=16)\n",
    "plt.title(\"Classification models' Accuracy\", fontsize=18)\n"
   ]
  },
  {
   "cell_type": "code",
   "execution_count": 40,
   "metadata": {},
   "outputs": [
    {
     "data": {
      "text/plain": [
       "Text(0.5, 1.0, \"Classification models' Loss\")"
      ]
     },
     "execution_count": 40,
     "metadata": {},
     "output_type": "execute_result"
    },
    {
     "data": {
      "image/png": "[encoded data removed]",
      "text/plain": [
       "<Figure size 648x432 with 1 Axes>"
      ]
     },
     "metadata": {
      "needs_background": "light"
     },
     "output_type": "display_data"
    }
   ],
   "source": [
    "plt.figure(figsize=(9, 6))\n",
    "plt.bar(x = models, height = loss, width = 0.5)\n",
    "plt.ylim(0, 25)\n",
    "plt.grid()\n",
    "xlocs, xlabs = plt.xticks()\n",
    "\n",
    "for i, v in enumerate(loss):\n",
    "    plt.text(xlocs[i] - 0.2, v + 0.5, str(v), fontdict=dict(fontsize = 12))\n",
    "\n",
    "plt.plot(models, loss, marker='o', markersize=10, linestyle='-.', linewidth=2, color = \"red\")\n",
    "plt.xlabel('Models', fontsize=16)\n",
    "plt.ylabel('Loss', fontsize=16)\n",
    "plt.title(\"Classification models' Loss\", fontsize=18)"
   ]
  }
 ],
 "metadata": {
  "interpreter": {
   "hash": "369f2c481f4da34e4445cda3fffd2e751bd1c4d706f27375911949ba6bb62e1c"
  },
  "kernelspec": {
   "display_name": "Python 3.10.4 64-bit",
   "language": "python",
   "name": "python3"
  },
  "language_info": {
   "codemirror_mode": {
    "name": "ipython",
    "version": 3
   },
   "file_extension": ".py",
   "mimetype": "text/x-python",
   "name": "python",
   "nbconvert_exporter": "python",
   "pygments_lexer": "ipython3",
   "version": "3.10.4"
  },
  "orig_nbformat": 4
 },
 "nbformat": 4,
 "nbformat_minor": 2
}
