{
 "cells": [
  {
   "cell_type": "code",
   "execution_count": 1,
   "metadata": {},
   "outputs": [],
   "source": [
    "import pandas as pd\n",
    "import numpy as np\n",
    "import matplotlib.pyplot as plt\n",
    "import seaborn as sns\n",
    "from sklearn.model_selection import train_test_split\n"
   ]
  },
  {
   "cell_type": "code",
   "execution_count": 2,
   "metadata": {},
   "outputs": [],
   "source": [
    "df_test2 = pd.read_excel(\"SMOTE_Borderline_Data.xlsx\")\n",
    "df_test2 = df_test2.loc[:, ~df_test2.columns.str.contains('^Unnamed')]"
   ]
  },
  {
   "cell_type": "code",
   "execution_count": 3,
   "metadata": {},
   "outputs": [],
   "source": [
    "X = df_test2.drop(\"EE4_GPA\", axis = 'columns')\n",
    "y = df_test2[\"EE4_GPA\"]"
   ]
  },
  {
   "cell_type": "code",
   "execution_count": 4,
   "metadata": {},
   "outputs": [],
   "source": [
    "X_train, X_test, y_train, y_test = train_test_split(X, y)"
   ]
  },
  {
   "cell_type": "code",
   "execution_count": 5,
   "metadata": {},
   "outputs": [
    {
     "data": {
      "text/html": [
       "<div>\n",
       "<style scoped>\n",
       "    .dataframe tbody tr th:only-of-type {\n",
       "        vertical-align: middle;\n",
       "    }\n",
       "\n",
       "    .dataframe tbody tr th {\n",
       "        vertical-align: top;\n",
       "    }\n",
       "\n",
       "    .dataframe thead th {\n",
       "        text-align: right;\n",
       "    }\n",
       "</style>\n",
       "<table border=\"1\" class=\"dataframe\">\n",
       "  <thead>\n",
       "    <tr style=\"text-align: right;\">\n",
       "      <th></th>\n",
       "      <th>EE1</th>\n",
       "      <th>EE2</th>\n",
       "      <th>EE3</th>\n",
       "      <th>MI</th>\n",
       "      <th>IT</th>\n",
       "      <th>PH</th>\n",
       "      <th>ME</th>\n",
       "    </tr>\n",
       "  </thead>\n",
       "  <tbody>\n",
       "    <tr>\n",
       "      <th>288</th>\n",
       "      <td>8.350000</td>\n",
       "      <td>6.829412</td>\n",
       "      <td>6.453947</td>\n",
       "      <td>7.552941</td>\n",
       "      <td>8.450000</td>\n",
       "      <td>9.300000</td>\n",
       "      <td>8.350000</td>\n",
       "    </tr>\n",
       "    <tr>\n",
       "      <th>343</th>\n",
       "      <td>6.900000</td>\n",
       "      <td>7.573529</td>\n",
       "      <td>8.026316</td>\n",
       "      <td>7.435294</td>\n",
       "      <td>6.750000</td>\n",
       "      <td>8.675000</td>\n",
       "      <td>9.700000</td>\n",
       "    </tr>\n",
       "    <tr>\n",
       "      <th>405</th>\n",
       "      <td>8.000000</td>\n",
       "      <td>6.334174</td>\n",
       "      <td>5.199273</td>\n",
       "      <td>5.839314</td>\n",
       "      <td>6.603323</td>\n",
       "      <td>8.624525</td>\n",
       "      <td>7.522256</td>\n",
       "    </tr>\n",
       "    <tr>\n",
       "      <th>925</th>\n",
       "      <td>8.582226</td>\n",
       "      <td>6.873076</td>\n",
       "      <td>7.997545</td>\n",
       "      <td>4.987653</td>\n",
       "      <td>6.668249</td>\n",
       "      <td>7.059837</td>\n",
       "      <td>5.884125</td>\n",
       "    </tr>\n",
       "    <tr>\n",
       "      <th>4</th>\n",
       "      <td>8.000000</td>\n",
       "      <td>6.966667</td>\n",
       "      <td>7.052273</td>\n",
       "      <td>6.018182</td>\n",
       "      <td>7.000000</td>\n",
       "      <td>6.675000</td>\n",
       "      <td>4.250000</td>\n",
       "    </tr>\n",
       "    <tr>\n",
       "      <th>...</th>\n",
       "      <td>...</td>\n",
       "      <td>...</td>\n",
       "      <td>...</td>\n",
       "      <td>...</td>\n",
       "      <td>...</td>\n",
       "      <td>...</td>\n",
       "      <td>...</td>\n",
       "    </tr>\n",
       "    <tr>\n",
       "      <th>692</th>\n",
       "      <td>8.230014</td>\n",
       "      <td>5.086767</td>\n",
       "      <td>6.968957</td>\n",
       "      <td>5.529900</td>\n",
       "      <td>7.261010</td>\n",
       "      <td>5.588009</td>\n",
       "      <td>2.892987</td>\n",
       "    </tr>\n",
       "    <tr>\n",
       "      <th>398</th>\n",
       "      <td>8.000000</td>\n",
       "      <td>6.605963</td>\n",
       "      <td>5.841404</td>\n",
       "      <td>6.360766</td>\n",
       "      <td>6.946883</td>\n",
       "      <td>7.513800</td>\n",
       "      <td>7.960736</td>\n",
       "    </tr>\n",
       "    <tr>\n",
       "      <th>176</th>\n",
       "      <td>9.400000</td>\n",
       "      <td>7.179412</td>\n",
       "      <td>7.602632</td>\n",
       "      <td>6.626471</td>\n",
       "      <td>9.650000</td>\n",
       "      <td>7.800000</td>\n",
       "      <td>9.700000</td>\n",
       "    </tr>\n",
       "    <tr>\n",
       "      <th>264</th>\n",
       "      <td>9.400000</td>\n",
       "      <td>8.252941</td>\n",
       "      <td>7.288158</td>\n",
       "      <td>7.720588</td>\n",
       "      <td>7.000000</td>\n",
       "      <td>8.925000</td>\n",
       "      <td>9.850000</td>\n",
       "    </tr>\n",
       "    <tr>\n",
       "      <th>737</th>\n",
       "      <td>8.662731</td>\n",
       "      <td>5.461110</td>\n",
       "      <td>5.629534</td>\n",
       "      <td>5.797794</td>\n",
       "      <td>5.895341</td>\n",
       "      <td>5.733695</td>\n",
       "      <td>4.930121</td>\n",
       "    </tr>\n",
       "  </tbody>\n",
       "</table>\n",
       "<p>746 rows × 7 columns</p>\n",
       "</div>"
      ],
      "text/plain": [
       "          EE1       EE2       EE3        MI        IT        PH        ME\n",
       "288  8.350000  6.829412  6.453947  7.552941  8.450000  9.300000  8.350000\n",
       "343  6.900000  7.573529  8.026316  7.435294  6.750000  8.675000  9.700000\n",
       "405  8.000000  6.334174  5.199273  5.839314  6.603323  8.624525  7.522256\n",
       "925  8.582226  6.873076  7.997545  4.987653  6.668249  7.059837  5.884125\n",
       "4    8.000000  6.966667  7.052273  6.018182  7.000000  6.675000  4.250000\n",
       "..        ...       ...       ...       ...       ...       ...       ...\n",
       "692  8.230014  5.086767  6.968957  5.529900  7.261010  5.588009  2.892987\n",
       "398  8.000000  6.605963  5.841404  6.360766  6.946883  7.513800  7.960736\n",
       "176  9.400000  7.179412  7.602632  6.626471  9.650000  7.800000  9.700000\n",
       "264  9.400000  8.252941  7.288158  7.720588  7.000000  8.925000  9.850000\n",
       "737  8.662731  5.461110  5.629534  5.797794  5.895341  5.733695  4.930121\n",
       "\n",
       "[746 rows x 7 columns]"
      ]
     },
     "execution_count": 5,
     "metadata": {},
     "output_type": "execute_result"
    }
   ],
   "source": [
    "X_train"
   ]
  },
  {
   "cell_type": "code",
   "execution_count": 6,
   "metadata": {},
   "outputs": [],
   "source": [
    "y_train = pd.Series(np.array(y_train))"
   ]
  },
  {
   "cell_type": "code",
   "execution_count": 7,
   "metadata": {},
   "outputs": [],
   "source": [
    "from keras.utils import np_utils\n",
    "Y_train = np_utils.to_categorical(y_train, 5)\n",
    "Y_test = np_utils.to_categorical(y_test, 5)"
   ]
  },
  {
   "cell_type": "code",
   "execution_count": 8,
   "metadata": {},
   "outputs": [
    {
     "data": {
      "text/html": [
       "<div>\n",
       "<style scoped>\n",
       "    .dataframe tbody tr th:only-of-type {\n",
       "        vertical-align: middle;\n",
       "    }\n",
       "\n",
       "    .dataframe tbody tr th {\n",
       "        vertical-align: top;\n",
       "    }\n",
       "\n",
       "    .dataframe thead th {\n",
       "        text-align: right;\n",
       "    }\n",
       "</style>\n",
       "<table border=\"1\" class=\"dataframe\">\n",
       "  <thead>\n",
       "    <tr style=\"text-align: right;\">\n",
       "      <th></th>\n",
       "      <th>EE1</th>\n",
       "      <th>EE2</th>\n",
       "      <th>EE3</th>\n",
       "      <th>MI</th>\n",
       "      <th>IT</th>\n",
       "      <th>PH</th>\n",
       "      <th>ME</th>\n",
       "    </tr>\n",
       "  </thead>\n",
       "  <tbody>\n",
       "    <tr>\n",
       "      <th>288</th>\n",
       "      <td>8.350000</td>\n",
       "      <td>6.829412</td>\n",
       "      <td>6.453947</td>\n",
       "      <td>7.552941</td>\n",
       "      <td>8.450000</td>\n",
       "      <td>9.300000</td>\n",
       "      <td>8.350000</td>\n",
       "    </tr>\n",
       "    <tr>\n",
       "      <th>343</th>\n",
       "      <td>6.900000</td>\n",
       "      <td>7.573529</td>\n",
       "      <td>8.026316</td>\n",
       "      <td>7.435294</td>\n",
       "      <td>6.750000</td>\n",
       "      <td>8.675000</td>\n",
       "      <td>9.700000</td>\n",
       "    </tr>\n",
       "    <tr>\n",
       "      <th>405</th>\n",
       "      <td>8.000000</td>\n",
       "      <td>6.334174</td>\n",
       "      <td>5.199273</td>\n",
       "      <td>5.839314</td>\n",
       "      <td>6.603323</td>\n",
       "      <td>8.624525</td>\n",
       "      <td>7.522256</td>\n",
       "    </tr>\n",
       "    <tr>\n",
       "      <th>925</th>\n",
       "      <td>8.582226</td>\n",
       "      <td>6.873076</td>\n",
       "      <td>7.997545</td>\n",
       "      <td>4.987653</td>\n",
       "      <td>6.668249</td>\n",
       "      <td>7.059837</td>\n",
       "      <td>5.884125</td>\n",
       "    </tr>\n",
       "    <tr>\n",
       "      <th>4</th>\n",
       "      <td>8.000000</td>\n",
       "      <td>6.966667</td>\n",
       "      <td>7.052273</td>\n",
       "      <td>6.018182</td>\n",
       "      <td>7.000000</td>\n",
       "      <td>6.675000</td>\n",
       "      <td>4.250000</td>\n",
       "    </tr>\n",
       "    <tr>\n",
       "      <th>...</th>\n",
       "      <td>...</td>\n",
       "      <td>...</td>\n",
       "      <td>...</td>\n",
       "      <td>...</td>\n",
       "      <td>...</td>\n",
       "      <td>...</td>\n",
       "      <td>...</td>\n",
       "    </tr>\n",
       "    <tr>\n",
       "      <th>692</th>\n",
       "      <td>8.230014</td>\n",
       "      <td>5.086767</td>\n",
       "      <td>6.968957</td>\n",
       "      <td>5.529900</td>\n",
       "      <td>7.261010</td>\n",
       "      <td>5.588009</td>\n",
       "      <td>2.892987</td>\n",
       "    </tr>\n",
       "    <tr>\n",
       "      <th>398</th>\n",
       "      <td>8.000000</td>\n",
       "      <td>6.605963</td>\n",
       "      <td>5.841404</td>\n",
       "      <td>6.360766</td>\n",
       "      <td>6.946883</td>\n",
       "      <td>7.513800</td>\n",
       "      <td>7.960736</td>\n",
       "    </tr>\n",
       "    <tr>\n",
       "      <th>176</th>\n",
       "      <td>9.400000</td>\n",
       "      <td>7.179412</td>\n",
       "      <td>7.602632</td>\n",
       "      <td>6.626471</td>\n",
       "      <td>9.650000</td>\n",
       "      <td>7.800000</td>\n",
       "      <td>9.700000</td>\n",
       "    </tr>\n",
       "    <tr>\n",
       "      <th>264</th>\n",
       "      <td>9.400000</td>\n",
       "      <td>8.252941</td>\n",
       "      <td>7.288158</td>\n",
       "      <td>7.720588</td>\n",
       "      <td>7.000000</td>\n",
       "      <td>8.925000</td>\n",
       "      <td>9.850000</td>\n",
       "    </tr>\n",
       "    <tr>\n",
       "      <th>737</th>\n",
       "      <td>8.662731</td>\n",
       "      <td>5.461110</td>\n",
       "      <td>5.629534</td>\n",
       "      <td>5.797794</td>\n",
       "      <td>5.895341</td>\n",
       "      <td>5.733695</td>\n",
       "      <td>4.930121</td>\n",
       "    </tr>\n",
       "  </tbody>\n",
       "</table>\n",
       "<p>746 rows × 7 columns</p>\n",
       "</div>"
      ],
      "text/plain": [
       "          EE1       EE2       EE3        MI        IT        PH        ME\n",
       "288  8.350000  6.829412  6.453947  7.552941  8.450000  9.300000  8.350000\n",
       "343  6.900000  7.573529  8.026316  7.435294  6.750000  8.675000  9.700000\n",
       "405  8.000000  6.334174  5.199273  5.839314  6.603323  8.624525  7.522256\n",
       "925  8.582226  6.873076  7.997545  4.987653  6.668249  7.059837  5.884125\n",
       "4    8.000000  6.966667  7.052273  6.018182  7.000000  6.675000  4.250000\n",
       "..        ...       ...       ...       ...       ...       ...       ...\n",
       "692  8.230014  5.086767  6.968957  5.529900  7.261010  5.588009  2.892987\n",
       "398  8.000000  6.605963  5.841404  6.360766  6.946883  7.513800  7.960736\n",
       "176  9.400000  7.179412  7.602632  6.626471  9.650000  7.800000  9.700000\n",
       "264  9.400000  8.252941  7.288158  7.720588  7.000000  8.925000  9.850000\n",
       "737  8.662731  5.461110  5.629534  5.797794  5.895341  5.733695  4.930121\n",
       "\n",
       "[746 rows x 7 columns]"
      ]
     },
     "execution_count": 8,
     "metadata": {},
     "output_type": "execute_result"
    }
   ],
   "source": [
    "X_train"
   ]
  },
  {
   "cell_type": "code",
   "execution_count": 9,
   "metadata": {},
   "outputs": [],
   "source": [
    "# importing necessary libraries\n",
    "from sklearn.metrics import confusion_matrix\n",
    "from sklearn.model_selection import train_test_split\n",
    "\n",
    "# loading the iris dataset\n",
    "\n",
    "# dividing X, y into train and test data\n",
    "\n",
    "\n",
    "# training a linear SVM classifier\n",
    "from sklearn.svm import SVC\n",
    "svm_model_linear = SVC(kernel = 'linear', C = 1, probability = True).fit(X_train, y_train)\n",
    "svm_predictions = svm_model_linear.predict(X_test)\n",
    "svm_predictions_proba = svm_model_linear.predict_proba(X_test)\n",
    "\n",
    "# model accuracy for X_test  \n",
    "SVM_accuracy = svm_model_linear.score(X_test, y_test)\n",
    "\n",
    "# creating a confusion matrix\n",
    "cm = confusion_matrix(y_test, svm_predictions)"
   ]
  },
  {
   "cell_type": "code",
   "execution_count": 10,
   "metadata": {},
   "outputs": [
    {
     "data": {
      "text/plain": [
       "0.5502008032128514"
      ]
     },
     "execution_count": 10,
     "metadata": {},
     "output_type": "execute_result"
    }
   ],
   "source": [
    "SVM_accuracy"
   ]
  },
  {
   "cell_type": "code",
   "execution_count": 11,
   "metadata": {},
   "outputs": [],
   "source": [
    "from sklearn.model_selection import KFold\n",
    "from sklearn.ensemble import RandomForestRegressor\n",
    "from sklearn.model_selection import train_test_split\n",
    "from sklearn.model_selection import cross_val_score "
   ]
  },
  {
   "cell_type": "code",
   "execution_count": 12,
   "metadata": {},
   "outputs": [],
   "source": [
    "kfold = KFold(n_splits = 10, random_state=1, shuffle=True)\n",
    "\n",
    "SVM_score = cross_val_score(svm_model_linear, X, y,scoring = 'accuracy',\n",
    "                         cv = kfold)"
   ]
  },
  {
   "cell_type": "code",
   "execution_count": 13,
   "metadata": {},
   "outputs": [
    {
     "data": {
      "text/plain": [
       "0.583919191919192"
      ]
     },
     "execution_count": 13,
     "metadata": {},
     "output_type": "execute_result"
    }
   ],
   "source": [
    "SVM_score.mean()"
   ]
  },
  {
   "cell_type": "code",
   "execution_count": 14,
   "metadata": {},
   "outputs": [
    {
     "name": "stdout",
     "output_type": "stream",
     "text": [
      "0.7590361445783133\n"
     ]
    },
    {
     "data": {
      "image/png": "[encoded data removed]",
      "text/plain": [
       "<Figure size 576x576 with 2 Axes>"
      ]
     },
     "metadata": {
      "needs_background": "light"
     },
     "output_type": "display_data"
    }
   ],
   "source": [
    "# importing necessary libraries\n",
    "from sklearn.metrics import confusion_matrix\n",
    "from sklearn.model_selection import train_test_split\n",
    "  \n",
    "# loading the iris dataset\n",
    "  \n",
    "  \n",
    "# dividing X, y into train and test data\n",
    "X_train, X_test, y_train, y_test = train_test_split(X, y)\n",
    "  \n",
    "# training a KNN classifier\n",
    "from sklearn.neighbors import KNeighborsClassifier\n",
    "knn = KNeighborsClassifier(n_neighbors = 5).fit(X_train, y_train)\n",
    "  \n",
    "# accuracy on X_test\n",
    "knn_accuracy = knn.score(X_test, y_test)\n",
    "print (knn_accuracy)\n",
    "  \n",
    "# creating a confusion matrix\n",
    "knn_predictions = knn.predict(X_test) \n",
    "knn_predictions_proba = knn.predict_proba(X_test) \n",
    "\n",
    "cm = confusion_matrix(y_test, knn_predictions)\n",
    "conf_matrix = pd.DataFrame(data = cm, columns = ['Predicted: 0', 'Predicted: 1', 'Predict: 2', 'Predict: 3', 'Predict: 4'], \n",
    "                                    index = ['Actual: 0', 'Actual: 1', 'Actual: 2', 'Actual: 3', 'Actual: 4 '])\n",
    "plt.figure(figsize = (8, 8))\n",
    "sns.heatmap(conf_matrix, annot = True, fmt = 'd', cmap = \"YlGnBu\");"
   ]
  },
  {
   "cell_type": "code",
   "execution_count": 15,
   "metadata": {},
   "outputs": [
    {
     "name": "stdout",
     "output_type": "stream",
     "text": [
      "0.780878787878788\n"
     ]
    }
   ],
   "source": [
    "knn_score = cross_val_score(knn, X, y,scoring = 'accuracy',\n",
    "                        cv = kfold)\n",
    "print(knn_score.mean())"
   ]
  },
  {
   "cell_type": "code",
   "execution_count": 16,
   "metadata": {},
   "outputs": [
    {
     "name": "stdout",
     "output_type": "stream",
     "text": [
      "0.5220883534136547\n"
     ]
    }
   ],
   "source": [
    "# importing necessary libraries\n",
    "from sklearn import datasets\n",
    "from sklearn.metrics import confusion_matrix\n",
    "from sklearn.model_selection import train_test_split\n",
    "\n",
    "# loading the iris dataset\n",
    "\n",
    "# X -> features, y -> label\n",
    "\n",
    "# dividing X, y into train and test data\n",
    "X_train, X_test, y_train, y_test = train_test_split(X, y)\n",
    "\n",
    "# training a Naive Bayes classifier\n",
    "from sklearn.naive_bayes import GaussianNB\n",
    "gnb = GaussianNB().fit(X_train, y_train)\n",
    "gnb_predictions = gnb.predict(X_test)\n",
    "gnb_predictions_proba = gnb.predict_proba(X_test)\n",
    "\n",
    "# accuracy on X_test\n",
    "GNB_accuracy = gnb.score(X_test, y_test)\n",
    "print (GNB_accuracy)\n",
    "\n",
    "# creating a confusion matrix\n",
    "cm = confusion_matrix(y_test, gnb_predictions)\n"
   ]
  },
  {
   "cell_type": "code",
   "execution_count": 17,
   "metadata": {},
   "outputs": [
    {
     "name": "stdout",
     "output_type": "stream",
     "text": [
      "0.5226464646464646\n"
     ]
    }
   ],
   "source": [
    "gnb_score = cross_val_score(gnb, X, y,scoring = 'accuracy',\n",
    "                         cv = kfold)\n",
    "print(gnb_score.mean())"
   ]
  },
  {
   "cell_type": "code",
   "execution_count": 18,
   "metadata": {},
   "outputs": [],
   "source": [
    "# importing necessary libraries\n",
    "from sklearn import datasets\n",
    "from sklearn.metrics import confusion_matrix\n",
    "from sklearn.model_selection import train_test_split\n",
    "\n",
    "\n",
    "# training a DescisionTreeClassifier\n",
    "from sklearn.tree import DecisionTreeClassifier\n",
    "dtree_model = DecisionTreeClassifier(max_depth = 5, random_state = 20).fit(X_train, y_train)\n",
    "dtree_predictions = dtree_model.predict(X_test)\n",
    "dtree_predictions_proba = dtree_model.predict_proba(X_test)\n",
    "\n",
    "# creating a confusion matrix\n",
    "cm = confusion_matrix(y_test, dtree_predictions)\n"
   ]
  },
  {
   "cell_type": "code",
   "execution_count": 19,
   "metadata": {},
   "outputs": [
    {
     "data": {
      "text/plain": [
       "0.7006262626262626"
      ]
     },
     "execution_count": 19,
     "metadata": {},
     "output_type": "execute_result"
    }
   ],
   "source": [
    "dtree_model_score = cross_val_score(dtree_model, X, y,scoring = 'accuracy',\n",
    "                        cv = kfold)\n",
    "\n",
    "dtree_model_score.mean()"
   ]
  },
  {
   "cell_type": "code",
   "execution_count": 20,
   "metadata": {},
   "outputs": [],
   "source": [
    "from sklearn.model_selection import RepeatedStratifiedKFold\n",
    "from sklearn.ensemble import RandomForestClassifier"
   ]
  },
  {
   "cell_type": "code",
   "execution_count": 21,
   "metadata": {},
   "outputs": [],
   "source": [
    "rf_model = RandomForestClassifier(n_estimators=20, max_depth = 5, random_state = 20).fit(X_train, y_train)"
   ]
  },
  {
   "cell_type": "code",
   "execution_count": 22,
   "metadata": {},
   "outputs": [],
   "source": [
    "rf_model_predictions_proba = rf_model.predict_proba(X_test)"
   ]
  },
  {
   "cell_type": "code",
   "execution_count": 23,
   "metadata": {},
   "outputs": [
    {
     "data": {
      "text/plain": [
       "0.6987951807228916"
      ]
     },
     "execution_count": 23,
     "metadata": {},
     "output_type": "execute_result"
    }
   ],
   "source": [
    "rf_model.score(X_test, y_test)"
   ]
  },
  {
   "cell_type": "code",
   "execution_count": 24,
   "metadata": {},
   "outputs": [
    {
     "data": {
      "image/png": "[encoded data removed]",
      "text/plain": [
       "<Figure size 576x576 with 2 Axes>"
      ]
     },
     "metadata": {
      "needs_background": "light"
     },
     "output_type": "display_data"
    }
   ],
   "source": [
    "rf_model_predictions = rf_model.predict(X_test)\n",
    "cm = confusion_matrix(y_test, rf_model_predictions)\n",
    "conf_matrix = pd.DataFrame(data = cm, columns = ['Predicted: 0', 'Predicted: 1', 'Predict: 2', 'Predict: 3', 'Predict: 4'], \n",
    "                                    index = ['Actual: 0', 'Actual: 1', 'Actual: 2', 'Actual: 3', 'Actual: 4 '])\n",
    "plt.figure(figsize = (8, 8))\n",
    "sns.heatmap(conf_matrix, annot = True, fmt = 'd', cmap = \"YlGnBu\");"
   ]
  },
  {
   "cell_type": "code",
   "execution_count": 25,
   "metadata": {},
   "outputs": [],
   "source": [
    "from sklearn.metrics import log_loss\n",
    "rf_log_loss = log_loss(y_test, rf_model_predictions_proba)\n",
    "dt_log_loss = log_loss(y_test, dtree_predictions_proba)\n",
    "nb_log_loss = log_loss(y_test, gnb_predictions_proba)\n",
    "knn_log_loss = log_loss(y_test, knn_predictions_proba)\n",
    "svm_log_loss = log_loss(y_test, svm_predictions_proba)"
   ]
  },
  {
   "cell_type": "code",
   "execution_count": 26,
   "metadata": {},
   "outputs": [],
   "source": [
    "cv = RepeatedStratifiedKFold(n_splits=10, n_repeats=3, random_state=1)\n",
    "rf_scores = cross_val_score(rf_model, X, y, scoring='accuracy', cv=cv, n_jobs=-1, error_score='raise')"
   ]
  },
  {
   "cell_type": "code",
   "execution_count": 27,
   "metadata": {},
   "outputs": [
    {
     "data": {
      "text/plain": [
       "0.737986531986532"
      ]
     },
     "execution_count": 27,
     "metadata": {},
     "output_type": "execute_result"
    }
   ],
   "source": [
    "rf_scores.mean()"
   ]
  },
  {
   "cell_type": "code",
   "execution_count": 28,
   "metadata": {},
   "outputs": [],
   "source": [
    "score = np.array([knn_score.mean(), SVM_score.mean(), rf_scores.mean(), dtree_model_score.mean(), gnb_score.mean(), 0.77])"
   ]
  },
  {
   "cell_type": "code",
   "execution_count": 29,
   "metadata": {},
   "outputs": [
    {
     "data": {
      "text/plain": [
       "array([0.78087879, 0.58391919, 0.73798653, 0.70062626, 0.52264646,\n",
       "       0.77      ])"
      ]
     },
     "execution_count": 29,
     "metadata": {},
     "output_type": "execute_result"
    }
   ],
   "source": [
    "score"
   ]
  },
  {
   "cell_type": "code",
   "execution_count": 30,
   "metadata": {},
   "outputs": [],
   "source": [
    "df = pd.DataFrame({\n",
    "    'models': [\"KNN\", \"SVM\", \"RF\", \"DT\", \"NB\", \"ANN\"],    \n",
    "    \"accuracy\": [knn_score.mean(), SVM_score.mean(), rf_scores.mean(), dtree_model_score.mean(), gnb_score.mean(), 0.77],\n",
    "    \"loss\": [knn_log_loss, svm_log_loss, rf_log_loss, dt_log_loss, nb_log_loss, 0.69]\n",
    "})"
   ]
  },
  {
   "cell_type": "code",
   "execution_count": 31,
   "metadata": {},
   "outputs": [
    {
     "data": {
      "text/html": [
       "<div>\n",
       "<style scoped>\n",
       "    .dataframe tbody tr th:only-of-type {\n",
       "        vertical-align: middle;\n",
       "    }\n",
       "\n",
       "    .dataframe tbody tr th {\n",
       "        vertical-align: top;\n",
       "    }\n",
       "\n",
       "    .dataframe thead th {\n",
       "        text-align: right;\n",
       "    }\n",
       "</style>\n",
       "<table border=\"1\" class=\"dataframe\">\n",
       "  <thead>\n",
       "    <tr style=\"text-align: right;\">\n",
       "      <th></th>\n",
       "      <th>models</th>\n",
       "      <th>accuracy</th>\n",
       "      <th>loss</th>\n",
       "    </tr>\n",
       "  </thead>\n",
       "  <tbody>\n",
       "    <tr>\n",
       "      <th>0</th>\n",
       "      <td>KNN</td>\n",
       "      <td>0.780879</td>\n",
       "      <td>23.658875</td>\n",
       "    </tr>\n",
       "    <tr>\n",
       "      <th>1</th>\n",
       "      <td>SVM</td>\n",
       "      <td>0.583919</td>\n",
       "      <td>2.552374</td>\n",
       "    </tr>\n",
       "    <tr>\n",
       "      <th>2</th>\n",
       "      <td>RF</td>\n",
       "      <td>0.737987</td>\n",
       "      <td>0.860290</td>\n",
       "    </tr>\n",
       "    <tr>\n",
       "      <th>3</th>\n",
       "      <td>DT</td>\n",
       "      <td>0.700626</td>\n",
       "      <td>2.309971</td>\n",
       "    </tr>\n",
       "    <tr>\n",
       "      <th>4</th>\n",
       "      <td>NB</td>\n",
       "      <td>0.522646</td>\n",
       "      <td>1.225647</td>\n",
       "    </tr>\n",
       "    <tr>\n",
       "      <th>5</th>\n",
       "      <td>ANN</td>\n",
       "      <td>0.770000</td>\n",
       "      <td>0.690000</td>\n",
       "    </tr>\n",
       "  </tbody>\n",
       "</table>\n",
       "</div>"
      ],
      "text/plain": [
       "  models  accuracy       loss\n",
       "0    KNN  0.780879  23.658875\n",
       "1    SVM  0.583919   2.552374\n",
       "2     RF  0.737987   0.860290\n",
       "3     DT  0.700626   2.309971\n",
       "4     NB  0.522646   1.225647\n",
       "5    ANN  0.770000   0.690000"
      ]
     },
     "execution_count": 31,
     "metadata": {},
     "output_type": "execute_result"
    }
   ],
   "source": [
    "df"
   ]
  },
  {
   "cell_type": "code",
   "execution_count": 32,
   "metadata": {},
   "outputs": [],
   "source": [
    "x = df.index\n",
    "y = df.values"
   ]
  },
  {
   "cell_type": "code",
   "execution_count": 33,
   "metadata": {},
   "outputs": [
    {
     "data": {
      "text/plain": [
       "array([['KNN', 0.780878787878788, 23.65887546543206],\n",
       "       ['SVM', 0.583919191919192, 2.55237408128091],\n",
       "       ['RF', 0.737986531986532, 0.860290426400399],\n",
       "       ['DT', 0.7006262626262626, 2.309970580332237],\n",
       "       ['NB', 0.5226464646464646, 1.2256472044070221],\n",
       "       ['ANN', 0.77, 0.69]], dtype=object)"
      ]
     },
     "execution_count": 33,
     "metadata": {},
     "output_type": "execute_result"
    }
   ],
   "source": [
    "y"
   ]
  },
  {
   "cell_type": "code",
   "execution_count": 34,
   "metadata": {},
   "outputs": [],
   "source": [
    "models = [\"KNN\", \"SVM\", \"RF\", \"DT\", \"NB\", \"ANN\"]\n",
    "labels = [knn_score.mean(), SVM_score.mean(), rf_scores.mean(), dtree_model_score.mean(), gnb_score.mean(), 0.77]\n",
    "loss = [knn_log_loss, svm_log_loss, rf_log_loss, dt_log_loss, nb_log_loss, 0.69]"
   ]
  },
  {
   "cell_type": "code",
   "execution_count": 35,
   "metadata": {},
   "outputs": [
    {
     "data": {
      "image/png": "[encoded data removed]",
      "text/plain": [
       "<Figure size 648x432 with 1 Axes>"
      ]
     },
     "metadata": {
      "needs_background": "light"
     },
     "output_type": "display_data"
    }
   ],
   "source": [
    "plt.figure(figsize = (9, 6))\n",
    "plt.bar(x = models, height = labels);\n"
   ]
  },
  {
   "cell_type": "code",
   "execution_count": 36,
   "metadata": {},
   "outputs": [
    {
     "data": {
      "text/plain": [
       "Text(0.5, 1.0, 'Average of Petal Length')"
      ]
     },
     "execution_count": 36,
     "metadata": {},
     "output_type": "execute_result"
    },
    {
     "data": {
      "image/png": "[encoded data removed]",
      "text/plain": [
       "<Figure size 648x432 with 1 Axes>"
      ]
     },
     "metadata": {
      "needs_background": "light"
     },
     "output_type": "display_data"
    }
   ],
   "source": [
    "plt.figure(figsize=(9, 6))\n",
    "plt.bar(x = models, height = labels)\n",
    "plt.plot(models, labels, marker='o', markersize=10, linestyle='-.', linewidth=2)\n",
    "plt.xlabel('Species', fontsize=16)\n",
    "plt.ylabel('cm', fontsize=16)\n",
    "plt.title(\"Average of Petal Length\", fontsize=18)"
   ]
  },
  {
   "cell_type": "code",
   "execution_count": 37,
   "metadata": {},
   "outputs": [],
   "source": [
    "scores = np.round(score, 2)\n",
    "loss = np.round(loss, 2)"
   ]
  },
  {
   "cell_type": "code",
   "execution_count": 38,
   "metadata": {},
   "outputs": [
    {
     "data": {
      "text/plain": [
       "Text(0.5, 1.0, \"Classification models' Accuracy\")"
      ]
     },
     "execution_count": 38,
     "metadata": {},
     "output_type": "execute_result"
    },
    {
     "data": {
      "image/png": "[encoded data removed]",
      "text/plain": [
       "<Figure size 648x432 with 1 Axes>"
      ]
     },
     "metadata": {
      "needs_background": "light"
     },
     "output_type": "display_data"
    }
   ],
   "source": [
    "plt.figure(figsize=(9, 6))\n",
    "plt.bar(x = models, height = labels, width = 0.5)\n",
    "plt.ylim(0, 1)\n",
    "plt.grid()\n",
    "xlocs, xlabs = plt.xticks()\n",
    "for i, v in enumerate(scores):\n",
    "    plt.text(xlocs[i] - 0.2, v + 0.03, str(v), fontdict=dict(fontsize = 12))\n",
    "\n",
    "plt.plot(models, labels, marker='o', markersize=10, linestyle='-.', linewidth=2, color = \"red\")\n",
    "plt.xlabel('Models', fontsize=16)\n",
    "plt.ylabel('Accuracy', fontsize=16)\n",
    "plt.title(\"Classification models' Accuracy\", fontsize=18)"
   ]
  },
  {
   "cell_type": "code",
   "execution_count": 39,
   "metadata": {},
   "outputs": [
    {
     "data": {
      "text/plain": [
       "Text(0.5, 1.0, \"Classification models' Accuracy\")"
      ]
     },
     "execution_count": 39,
     "metadata": {},
     "output_type": "execute_result"
    },
    {
     "data": {
      "image/png": "[encoded data removed]",
      "text/plain": [
       "<Figure size 648x432 with 1 Axes>"
      ]
     },
     "metadata": {
      "needs_background": "light"
     },
     "output_type": "display_data"
    }
   ],
   "source": [
    "ax = df.plot(x=\"models\", y=\"accuracy\", kind=\"bar\", figsize=(9, 6))\n",
    "plt.ylim(0, 1)\n",
    "plt.grid()\n",
    "xlocs, xlabs = plt.xticks()\n",
    "for i, v in enumerate(scores):\n",
    "    plt.text(xlocs[i] - 0.2, v + 0.03, str(v), fontdict=dict(fontsize = 12))\n",
    "\n",
    "plt.plot(models, labels, marker='o', markersize=10, linestyle='-.', linewidth=2, color = \"red\")\n",
    "plt.xlabel('Models', fontsize=16)\n",
    "plt.ylabel('Accuracy', fontsize=16)\n",
    "plt.title(\"Classification models' Accuracy\", fontsize=18)\n"
   ]
  },
  {
   "cell_type": "code",
   "execution_count": 40,
   "metadata": {},
   "outputs": [
    {
     "data": {
      "text/plain": [
       "Text(0.5, 1.0, \"Classification models' Loss\")"
      ]
     },
     "execution_count": 40,
     "metadata": {},
     "output_type": "execute_result"
    },
    {
     "data": {
      "image/png": "[encoded data removed]",
      "text/plain": [
       "<Figure size 648x432 with 1 Axes>"
      ]
     },
     "metadata": {
      "needs_background": "light"
     },
     "output_type": "display_data"
    }
   ],
   "source": [
    "plt.figure(figsize=(9, 6))\n",
    "plt.bar(x = models, height = loss, width = 0.5)\n",
    "plt.ylim(0, 25)\n",
    "plt.grid()\n",
    "xlocs, xlabs = plt.xticks()\n",
    "\n",
    "for i, v in enumerate(loss):\n",
    "    plt.text(xlocs[i] - 0.2, v + 0.5, str(v), fontdict=dict(fontsize = 12))\n",
    "\n",
    "plt.plot(models, loss, marker='o', markersize=10, linestyle='-.', linewidth=2, color = \"red\")\n",
    "plt.xlabel('Models', fontsize=16)\n",
    "plt.ylabel('Loss', fontsize=16)\n",
    "plt.title(\"Classification models' Loss\", fontsize=18)"
   ]
  }
 ],
 "metadata": {
  "interpreter": {
   "hash": "369f2c481f4da34e4445cda3fffd2e751bd1c4d706f27375911949ba6bb62e1c"
  },
  "kernelspec": {
   "display_name": "Python 3.10.4 64-bit",
   "language": "python",
   "name": "python3"
  },
  "language_info": {
   "codemirror_mode": {
    "name": "ipython",
    "version": 3
   },
   "file_extension": ".py",
   "mimetype": "text/x-python",
   "name": "python",
   "nbconvert_exporter": "python",
   "pygments_lexer": "ipython3",
   "version": "3.10.4"
  },
  "orig_nbformat": 4
 },
 "nbformat": 4,
 "nbformat_minor": 2
}
