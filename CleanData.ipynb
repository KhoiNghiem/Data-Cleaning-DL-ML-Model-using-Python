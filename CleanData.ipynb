{
 "cells": [
  {
   "cell_type": "code",
   "execution_count": 1,
   "metadata": {},
   "outputs": [],
   "source": [
    "# Import library\n",
    "import pandas as pd\n",
    "import numpy as np\n",
    "import matplotlib.pyplot as plt\n",
    "import math"
   ]
  },
  {
   "cell_type": "code",
   "execution_count": 2,
   "metadata": {},
   "outputs": [],
   "source": [
    "# Import Data\n",
    "df1 = pd.read_excel(\"raw_data.xlsx\")"
   ]
  },
  {
   "cell_type": "code",
   "execution_count": 3,
   "metadata": {},
   "outputs": [],
   "source": [
    "df2 = df1.loc[:, ~df1.columns.str.contains('^Unnamed')]\n",
    "df2 = df2.drop(\"Điểm tb\", axis = \"columns\")"
   ]
  },
  {
   "cell_type": "code",
   "execution_count": 4,
   "metadata": {},
   "outputs": [],
   "source": [
    "# Xóa môn tín bằng 0\n",
    "df3 = (df2.loc[(df2[\"Số TC\"] != 0)])    "
   ]
  },
  {
   "cell_type": "code",
   "execution_count": 5,
   "metadata": {},
   "outputs": [],
   "source": [
    "def delete_data(x):\n",
    "    df_out = pd.DataFrame\n",
    "    df_out = df3.copy()\n",
    "    for i in range(0, len(x)):\n",
    "        df_out = (df_out.loc[df_out[\"Mã HP\"] != x[i]])\n",
    "    return df_out"
   ]
  },
  {
   "cell_type": "code",
   "execution_count": 6,
   "metadata": {},
   "outputs": [],
   "source": [
    "subject_del = [\"SSH1110\", \"SSH1120\", \"SSH1050\", \"SSH1130\",\n",
    "                \"MIL1110\", \"MIL1120\", \"MIL1130\", \"EM1010\", \n",
    "                \"EM1100\", \"EM1170\", \"EM1180\", \"EM1160\", \n",
    "                \"EM1170\", \"EM2104\", \"EM3102\", \"EM3150\", \n",
    "                \"EM3170\", \"EM3190\", \"EM4317\", \"EM4323\", \n",
    "                \"EM4415\", \"ED3110\", \"ED3220\", \"EV3305\"]"
   ]
  },
  {
   "cell_type": "code",
   "execution_count": 7,
   "metadata": {},
   "outputs": [],
   "source": [
    "df4 = delete_data(subject_del)"
   ]
  },
  {
   "cell_type": "code",
   "execution_count": 8,
   "metadata": {},
   "outputs": [],
   "source": [
    "def averange_Point(x, y): \n",
    "    result = []\n",
    "    nan_index = np.where(df4['Điểm QT'].isnull())[0]\n",
    "    x_arr = x.tolist()\n",
    "    y_arr = y.tolist()\n",
    "    for i in range(0, len(x)):\n",
    "        if(i in nan_index):\n",
    "            result.append(y_arr[i])    \n",
    "        else: \n",
    "            result.append(0.3*x_arr[i] + 0.7*y_arr[i])\n",
    "    return result"
   ]
  },
  {
   "cell_type": "code",
   "execution_count": 9,
   "metadata": {},
   "outputs": [],
   "source": [
    "df5 = df4.copy()"
   ]
  },
  {
   "cell_type": "code",
   "execution_count": 10,
   "metadata": {},
   "outputs": [],
   "source": [
    "df5[\"Điểm TB\"] = (averange_Point(df4[\"Điểm QT\"], df4[\"Điểm CK\"]))"
   ]
  },
  {
   "cell_type": "code",
   "execution_count": 11,
   "metadata": {},
   "outputs": [],
   "source": [
    "df6 = df5.sort_values(by = \"Họ và tên\" , ascending = True)"
   ]
  },
  {
   "cell_type": "code",
   "execution_count": 12,
   "metadata": {},
   "outputs": [],
   "source": [
    "def GPA_above_5(x):\n",
    "    if(x < 5):\n",
    "        return 0\n",
    "    else:\n",
    "        return 1"
   ]
  },
  {
   "cell_type": "code",
   "execution_count": 13,
   "metadata": {},
   "outputs": [],
   "source": [
    "df7 = df6.copy()\n",
    "df7[\"Điểm TB trên 5\"] = df6[\"Điểm TB\"].apply(GPA_above_5)"
   ]
  },
  {
   "cell_type": "code",
   "execution_count": 14,
   "metadata": {},
   "outputs": [],
   "source": [
    "def select_Subject(x):\n",
    "    result = []\n",
    "    value = df7[\"Mã HP\"]"
   ]
  },
  {
   "cell_type": "code",
   "execution_count": 15,
   "metadata": {},
   "outputs": [],
   "source": [
    "value = df7[\"Mã HP\"].tolist()"
   ]
  },
  {
   "cell_type": "code",
   "execution_count": 16,
   "metadata": {},
   "outputs": [],
   "source": [
    "import re\n",
    "def splitCode(code):\n",
    "  matches = re.search(\"([a-zA-Z]+)\\d+\", code)\n",
    "  if matches is None:\n",
    "    return ''\n",
    "  return matches.group(1)"
   ]
  },
  {
   "cell_type": "code",
   "execution_count": 17,
   "metadata": {},
   "outputs": [],
   "source": [
    "def getAlpha(code):\n",
    "  matches = re.search(\"([a-zA-Z]+)(\\d+)\", code)\n",
    "  if matches is None:\n",
    "    return ''\n",
    "  return matches.group(1)\n",
    "\n",
    "def getDigit(code):\n",
    "  matches = re.search(\"([a-zA-Z]+)(\\d+)\", code)\n",
    "  if matches is None:\n",
    "    return ''\n",
    "  return matches.group(2)"
   ]
  },
  {
   "cell_type": "code",
   "execution_count": 18,
   "metadata": {},
   "outputs": [],
   "source": [
    "result1 = list(map(getAlpha, value))\n",
    "result2 = list(map(getDigit, value))"
   ]
  },
  {
   "cell_type": "code",
   "execution_count": 19,
   "metadata": {},
   "outputs": [],
   "source": [
    "df8 = df7.copy()\n",
    "df8[\"Mã\"] = result1"
   ]
  },
  {
   "cell_type": "code",
   "execution_count": 21,
   "metadata": {},
   "outputs": [],
   "source": [
    "import re\n",
    "\n",
    "def getDigit(code):\n",
    "  matches = re.search(\"(([a-zA-Z]+\\d))\", code)\n",
    "  if matches is None:\n",
    "    return ''\n",
    "  return matches.group(2)\n",
    "\n",
    "result1 = list(map(getDigit, value))"
   ]
  },
  {
   "cell_type": "code",
   "execution_count": 22,
   "metadata": {},
   "outputs": [],
   "source": [
    "df9 = df7.copy()\n",
    "df9[\"Mã\"] = result1"
   ]
  },
  {
   "cell_type": "code",
   "execution_count": 32,
   "metadata": {},
   "outputs": [],
   "source": [
    "df_EE1 = (df9.loc[df9[\"Mã\"] == \"EE1\"])\n",
    "df_EE2 = (df9.loc[df9[\"Mã\"] == \"EE2\"])\n",
    "df_EE3 = (df9.loc[df9[\"Mã\"] == \"EE3\"])\n",
    "df_EE4 = (df9.loc[df9[\"Mã\"] == \"EE4\"])\n",
    "df_MI = (df8.loc[df8[\"Mã\"] == \"MI\"])\n",
    "df_IT = (df8.loc[df8[\"Mã\"] == \"IT\"])\n",
    "df_PH = (df8.loc[df8[\"Mã\"] == \"PH\"])\n",
    "df_ME = (df8.loc[df8[\"Mã\"] == \"ME\"])"
   ]
  },
  {
   "cell_type": "code",
   "execution_count": 34,
   "metadata": {},
   "outputs": [],
   "source": [
    "def max_point(df):\n",
    "    df_max_point = pd.DataFrame()\n",
    "    df_name = pd.DataFrame()\n",
    "    df_MHP = pd.DataFrame()\n",
    "    for i in range(1, (df[\"Họ và tên\"].unique())[-1] + 1):\n",
    "        df_name = (df.loc[df[\"Họ và tên\"] == i])\n",
    "        for j in (df_name[\"Mã HP\"].unique()):\n",
    "            df_MHP = df_name.loc[df_name[\"Mã HP\"] == j]\n",
    "            max_point = max(df_MHP['Điểm TB'])\n",
    "            df_max_point = pd.concat([df_max_point, df_MHP[df_MHP['Điểm TB'] == max_point]])\n",
    "    return df_max_point"
   ]
  },
  {
   "cell_type": "code",
   "execution_count": 35,
   "metadata": {},
   "outputs": [],
   "source": [
    "df_EE1 = max_point(df_EE1)\n",
    "df_EE2 = max_point(df_EE2)\n",
    "df_EE3 = max_point(df_EE3)\n",
    "df_EE4 = max_point(df_EE4)\n",
    "df_MI = max_point(df_MI)\n",
    "df_IT = max_point(df_IT)\n",
    "df_PH = max_point(df_PH)\n",
    "df_ME = max_point(df_ME)"
   ]
  },
  {
   "cell_type": "code",
   "execution_count": 36,
   "metadata": {},
   "outputs": [],
   "source": [
    "def average_point(df):\n",
    "    avr = []\n",
    "    df_test = pd.DataFrame()\n",
    "    for i in range(1, (df[\"Họ và tên\"].unique())[-1] + 1):\n",
    "        df_test = (df.loc[df[\"Họ và tên\"] == i])\n",
    "        avr.append((np.sum(df_test[\"Điểm TB\"]*df_test[\"Số TC\"]))/(np.sum(df_test[\"Số TC\"])))\n",
    "    return avr"
   ]
  },
  {
   "cell_type": "code",
   "execution_count": 37,
   "metadata": {},
   "outputs": [],
   "source": [
    "def average_point_EE4(df):\n",
    "    avr = []\n",
    "    df_test = pd.DataFrame()\n",
    "    for i in range(1, (df[\"Họ và tên\"].unique())[-1] + 2):\n",
    "        df_test = (df.loc[df[\"Họ và tên\"] == i])\n",
    "        avr.append((np.sum(df_test[\"Điểm TB\"]*df_test[\"Số TC\"]))/(np.sum(df_test[\"Số TC\"])))\n",
    "    return avr"
   ]
  },
  {
   "cell_type": "code",
   "execution_count": 38,
   "metadata": {},
   "outputs": [],
   "source": [
    "def average_point_ME(df):\n",
    "    avr = []\n",
    "    df_test = pd.DataFrame()\n",
    "    for i in range(1, (df[\"Họ và tên\"].unique())[-1] + 2):\n",
    "        df_test = (df.loc[df[\"Họ và tên\"] == i])\n",
    "        avr.append((np.sum(df_test[\"Điểm TB\"]*df_test[\"Số TC\"]))/(np.sum(df_test[\"Số TC\"])))\n",
    "    return avr"
   ]
  },
  {
   "cell_type": "code",
   "execution_count": 51,
   "metadata": {},
   "outputs": [
    {
     "name": "stderr",
     "output_type": "stream",
     "text": [
      "C:\\Users\\khoin\\AppData\\Local\\Temp\\ipykernel_3976\\23487049.py:6: RuntimeWarning: invalid value encountered in double_scalars\n",
      "  avr.append((np.sum(df_test[\"Điểm TB\"]*df_test[\"Số TC\"]))/(np.sum(df_test[\"Số TC\"])))\n"
     ]
    }
   ],
   "source": [
    "avr1 = average_point(df_EE1)\n",
    "avr2 = average_point(df_EE2)\n",
    "avr3 = average_point(df_EE3)\n",
    "avr4 = average_point_EE4(df_EE4)\n",
    "avrMI = average_point(df_MI)\n",
    "avrIT = average_point(df_IT)\n",
    "avrPH = average_point(df_PH)\n",
    "avrME = average_point_ME(df_ME)"
   ]
  },
  {
   "cell_type": "code",
   "execution_count": 52,
   "metadata": {},
   "outputs": [],
   "source": [
    "df_final = pd.DataFrame()"
   ]
  },
  {
   "cell_type": "code",
   "execution_count": 55,
   "metadata": {},
   "outputs": [],
   "source": [
    "df_final[\"Họ và tên\"] = np.arange(1, 430)\n",
    "df_final[\"EE1\"] = avr1[0:(len(avr1))]\n",
    "df_final[\"EE2\"] = avr2[0:len(avr2)]\n",
    "df_final[\"EE3\"] = avr3[0:len(avr3)]\n",
    "df_final[\"MI\"] = avrMI[0:len(avrMI)]\n",
    "df_final[\"IT\"] = avrIT[0:len(avrIT)]\n",
    "df_final[\"PH\"] = avrPH[0:len(avrPH)]\n",
    "df_final[\"ME\"] = avrME[0:len(avrME) + 1]\n",
    "df_final[\"EE4\"] = avr4[0:len(avr4)]"
   ]
  },
  {
   "cell_type": "code",
   "execution_count": 56,
   "metadata": {},
   "outputs": [],
   "source": [
    "df_final = df_final.dropna()\n",
    "df_final = df_final.drop([\"Họ và tên\"], axis = 'columns')"
   ]
  },
  {
   "cell_type": "code",
   "execution_count": 57,
   "metadata": {},
   "outputs": [],
   "source": [
    "df_final.to_excel(\"Final_Data.xlsx\")"
   ]
  }
 ],
 "metadata": {
  "interpreter": {
   "hash": "369f2c481f4da34e4445cda3fffd2e751bd1c4d706f27375911949ba6bb62e1c"
  },
  "kernelspec": {
   "display_name": "Python 3.10.4 64-bit",
   "language": "python",
   "name": "python3"
  },
  "language_info": {
   "codemirror_mode": {
    "name": "ipython",
    "version": 3
   },
   "file_extension": ".py",
   "mimetype": "text/x-python",
   "name": "python",
   "nbconvert_exporter": "python",
   "pygments_lexer": "ipython3",
   "version": "3.10.4"
  },
  "orig_nbformat": 4
 },
 "nbformat": 4,
 "nbformat_minor": 2
}
